{
 "cells": [
  {
   "cell_type": "markdown",
   "metadata": {},
   "source": [
    "## Step 1. 크롤링: 웹 데이터 가져오기"
   ]
  },
  {
   "cell_type": "markdown",
   "metadata": {},
   "source": [
    "### BeautifulSoup을 이용해 웹 크롤링하기"
   ]
  },
  {
   "cell_type": "markdown",
   "metadata": {},
   "source": [
    "모든 URL의 데이터를 가져오기\n",
    "\n",
    "나무위키에서 최근 변경이 일어난 페이지들의 URL을 page_urls라는 변수에 저장"
   ]
  },
  {
   "cell_type": "code",
   "execution_count": 1,
   "metadata": {},
   "outputs": [],
   "source": [
    "# -*- coding: utf-8 -*-\n",
    "\n",
    "%matplotlib inline\n",
    "\n",
    "import pandas as pd\n",
    "import numpy as np\n",
    "import matplotlib.pyplot as plt\n",
    "\n",
    "import warnings\n",
    "warnings.filterwarnings(\"ignore\")\n",
    "\n",
    "import requests\n",
    "from bs4 import BeautifulSoup\n",
    "import re\n",
    "\n",
    "source_url = \"https://namu.wiki/RecentChanges\"\n",
    "\n",
    "req = requests.get(source_url)\n",
    "html = req.content\n",
    "soup = BeautifulSoup(html, 'lxml')\n",
    "contents_table = soup.find(name=\"table\")\n",
    "table_body = contents_table.find(name=\"tbody\")\n",
    "table_rows = table_body.find_all(name=\"tr\")\n",
    "\n",
    "page_url_base = \"https://namu.wiki\"\n",
    "page_urls = []\n",
    "for index in range(0, len(table_rows)):\n",
    "    first_td = table_rows[index].find_all('td')[0]\n",
    "    td_url = first_td.find_all('a')\n",
    "    if len(td_url) > 0:\n",
    "        page_url = page_url_base + td_url[0].get('href')\n",
    "        page_urls.append(page_url)\n",
    "\n",
    "page_urls = list(set(page_urls))"
   ]
  },
  {
   "cell_type": "markdown",
   "metadata": {},
   "source": [
    "### 나무위키의 최근 변경 데이터 크롤링하기"
   ]
  },
  {
   "cell_type": "markdown",
   "metadata": {},
   "source": [
    "문서의 본문, 제목, 카테고리에 등장하는 텍스트 데이터 가져오기"
   ]
  },
  {
   "cell_type": "code",
   "execution_count": 2,
   "metadata": {},
   "outputs": [
    {
     "data": {
      "text/html": [
       "<div>\n",
       "<style scoped>\n",
       "    .dataframe tbody tr th:only-of-type {\n",
       "        vertical-align: middle;\n",
       "    }\n",
       "\n",
       "    .dataframe tbody tr th {\n",
       "        vertical-align: top;\n",
       "    }\n",
       "\n",
       "    .dataframe thead th {\n",
       "        text-align: right;\n",
       "    }\n",
       "</style>\n",
       "<table border=\"1\" class=\"dataframe\">\n",
       "  <thead>\n",
       "    <tr style=\"text-align: right;\">\n",
       "      <th></th>\n",
       "      <th>title</th>\n",
       "      <th>category</th>\n",
       "      <th>content_text</th>\n",
       "    </tr>\n",
       "  </thead>\n",
       "  <tbody>\n",
       "    <tr>\n",
       "      <th>0</th>\n",
       "      <td>폴라 베어</td>\n",
       "      <td>보드카 베이스 칵테일나무위키 주류 프로젝트</td>\n",
       "      <td>은(는) 여기로 연결됩니다. 이 문서가 설명하는 칵테일의 모티브가 된 동물에 ...</td>\n",
       "    </tr>\n",
       "    <tr>\n",
       "      <th>1</th>\n",
       "      <td>국군기무사령부</td>\n",
       "      <td>국군기무사령부</td>\n",
       "      <td>가입 후 15일이 지나야 편집 가능한 문서입니다.   은(는) 여기로 연결됩니...</td>\n",
       "    </tr>\n",
       "    <tr>\n",
       "      <th>2</th>\n",
       "      <td>윌(소맥거핀)</td>\n",
       "      <td>소맥거핀/영상 등장인물메이플스토리/밈짤방/애니메이션서브 주인공/애니메이션주연이 된 ...</td>\n",
       "      <td>상위 문서: 소맥거핀/영상 등장인물 소맥거핀 유니버스 윌의 모든 것을 표현하는...</td>\n",
       "    </tr>\n",
       "    <tr>\n",
       "      <th>3</th>\n",
       "      <td>요코하마 디엔에이 베이스타즈</td>\n",
       "      <td>일본의 야구야구단일본프로야구1949년 창단</td>\n",
       "      <td>NPB セリーグ / NPB 센트럴리그 NPB  Central League ...</td>\n",
       "    </tr>\n",
       "    <tr>\n",
       "      <th>4</th>\n",
       "      <td>나하은</td>\n",
       "      <td>2009년 출생대구광역시 출신 인물유튜버/ㄴ대한민국의 여성 인터넷 방송인/ㄴDIA ...</td>\n",
       "      <td>어썸하은  Awesome Haeun닉네임어썸하은 (Awesome Haeun)이름나하...</td>\n",
       "    </tr>\n",
       "  </tbody>\n",
       "</table>\n",
       "</div>"
      ],
      "text/plain": [
       "              title                                           category  \\\n",
       "0            폴라 베어                             보드카 베이스 칵테일나무위키 주류 프로젝트   \n",
       "1          국군기무사령부                                             국군기무사령부   \n",
       "2          윌(소맥거핀)   소맥거핀/영상 등장인물메이플스토리/밈짤방/애니메이션서브 주인공/애니메이션주연이 된 ...   \n",
       "3  요코하마 디엔에이 베이스타즈                             일본의 야구야구단일본프로야구1949년 창단   \n",
       "4              나하은   2009년 출생대구광역시 출신 인물유튜버/ㄴ대한민국의 여성 인터넷 방송인/ㄴDIA ...   \n",
       "\n",
       "                                        content_text  \n",
       "0     은(는) 여기로 연결됩니다. 이 문서가 설명하는 칵테일의 모티브가 된 동물에 ...  \n",
       "1     가입 후 15일이 지나야 편집 가능한 문서입니다.   은(는) 여기로 연결됩니...  \n",
       "2     상위 문서: 소맥거핀/영상 등장인물 소맥거핀 유니버스 윌의 모든 것을 표현하는...  \n",
       "3       NPB セリーグ / NPB 센트럴리그 NPB  Central League ...  \n",
       "4  어썸하은  Awesome Haeun닉네임어썸하은 (Awesome Haeun)이름나하...  "
      ]
     },
     "execution_count": 2,
     "metadata": {},
     "output_type": "execute_result"
    }
   ],
   "source": [
    "# 크롤링한 데이터를 데이터 프레임으로 만들기 위해 준비\n",
    "columns = ['title', 'category', 'content_text']\n",
    "df = pd.DataFrame(columns=columns)\n",
    "\n",
    "# 각 페이지별 '제목', '카테고리', '본문' 정보를 데이터 프레임으로 만들기\n",
    "for page_url in page_urls:\n",
    "\n",
    "    # 사이트의 html 구조에 기반하여 크롤링 수행\n",
    "    req = requests.get(page_url)\n",
    "    html = req.content\n",
    "    soup = BeautifulSoup(html, 'lxml')\n",
    "    contents_table = soup.find(name=\"article\")\n",
    "    title = contents_table.find_all('h1')[0]\n",
    "    \n",
    "    # 카테고리 정보가 없는 경우 확인\n",
    "    if len(contents_table.find_all('ul')) > 0:\n",
    "        category = contents_table.find_all('ul')[0]\n",
    "    else:\n",
    "        category = None\n",
    "        \n",
    "    content_paragraphs = contents_table.find_all(name=\"div\", attrs={\"class\":\"wiki-paragraph\"})\n",
    "    content_corpus_list = []\n",
    "    \n",
    "    # 페이지 내 제목 정보에서 개행 문자를 제거한 뒤 추출 \n",
    "    # 만약 없는 경우, 빈 문자열로 대체\n",
    "    if title is not None:\n",
    "        row_title = title.text.replace(\"\\n\", \" \")\n",
    "    else:\n",
    "        row_title = \"\"\n",
    "    \n",
    "    # 페이지 내 본문 정보에서 개행 문자를 제거한 뒤 추출\n",
    "    # 만약 없는 경우, 빈 문자열로 대체\n",
    "    if content_paragraphs is not None:\n",
    "        for paragraphs in content_paragraphs:\n",
    "            if paragraphs is not None:\n",
    "                content_corpus_list.append(paragraphs.text.replace(\"\\n\", \" \"))\n",
    "            else:\n",
    "                content_corpus_list.append(\"\")\n",
    "    else:\n",
    "        content_corpus_list.append(\"\")\n",
    "        \n",
    "    # 페이지 내 카테고리정보에서“분류”라는 단어와 개행 문자를 제거한 뒤 추출\n",
    "    # 만약 없는 경우, 빈 문자열로 대체\n",
    "    if category is not None:\n",
    "        row_category = category.text.replace(\"\\n\", \" \")\n",
    "    else:\n",
    "        row_category = \"\"\n",
    "    \n",
    "    # 모든 정보를 하나의 데이터 프레임에 저장\n",
    "    row = [row_title, row_category, \"\".join(content_corpus_list)]\n",
    "    series = pd.Series(row, index=df.columns)\n",
    "    df = df.append(series, ignore_index=True)\n",
    "    \n",
    "# 데이터 프레임 출력\n",
    "df.head(5)"
   ]
  },
  {
   "cell_type": "markdown",
   "metadata": {},
   "source": [
    "모든 URL의 텍스트 데이터를 가져온 뒤, 이를 데이터 프레임의 형태로 변환한 것\n",
    "\n",
    "데이터에 등장하는 불필요한 문자인 \"\\n\", \"분류\" -> 크롤링 과정에서 replace() 함수로 제거"
   ]
  },
  {
   "cell_type": "markdown",
   "metadata": {},
   "source": [
    "## Step 2. 추출: 키워드 정보 추출하기"
   ]
  },
  {
   "cell_type": "markdown",
   "metadata": {},
   "source": [
    "### 텍스트 데이터 전처리하기"
   ]
  },
  {
   "cell_type": "markdown",
   "metadata": {},
   "source": [
    "re.compile('[^ ㄱ-ㅣ가-힣]+') -> 한글에 대한 정규표현식 정의: 대상이 되는 텍스트 데이터에서 한글만 추출"
   ]
  },
  {
   "cell_type": "code",
   "execution_count": 3,
   "metadata": {},
   "outputs": [
    {
     "name": "stdout",
     "output_type": "stream",
     "text": [
      "  은는 여기로 연결됩니다 이 문서가 설명하는 칵테일의 모티브가 된 동물에 대한 내용은 북극곰 문서를의  문단을의  부분을 에 대한 내용은  문서를의  문단을의  문단을의  부분을 에 대한 내용은  문서를의  문단을의  부분을 에 대한 내용은  문서를의  문단을의  부분을 에 대한 내용은  문서를의  문단을의  부분을 에 대한 내용은  문서를의  문단을의  부분을 에 대한 내용은  문서를의  문단을의  부분을 에 대한 내용은  문서를의  문단을의  부분을 에 대한 내용은  문서를의  문단을의  부분을 에 대한 내용은  문서를의  문단을의  부분을 참조하십시오  개요 레시피 변형 레시피들 변형 변형 변형 슈터 변형 변형칵테일의 한 종류 북극곰 이라는 이름에 걸맞게 칵테일 색깔도 하얀색이다 다만 보드카가 나 들어가는 만큼 도수가 낮은 편은 아니니 주의 마셨을 때 첫 맛은 달콤하지만 보드카의 짜릿함이 끝맛으로 따라붙는다 사실 이 칵테일은 마티니의 경우처럼 변형 칵테일 레시피가 무지 많은 칵테일이다 아래 소개된 레시피만 해도 무려 개로 실제로는 아래의 레시피 외에도 무수히 많은 변형 칵테일이 존재한다폴라 배어 칵테일에 필요한 재료는 다음과 같다보드카  크렘 드 카카오 화이트  크림  위의 재료들을 모두 쉐이킹한 다음 구프 글라스에 따라주면 완성 가니쉬는 따로 존재하지 않는다보드카  온스블루 큐라소  온스 세븐업 또는 스프라이트로 탑업색  투명한 푸른빛을 띈다맛  보드카의 맛이 느껴지면서도 블루큐라소세븐업의 달달한 조화로 인해 단맛이 나면서 보드카의 독한 느낌이 나지 않는다 알코올맛과 음료수맛의 조화가 인상적인 맛 비주얼과 밸런스를 중시한다면 이 버전을 강력 추천  보드카  온스라임주스  온스 세븐업 또는 스프라이트로 탑업색  라임주스로 인해 게토레이드 레몬맛 색깔을 띈다맛  라임주스를 온스 탔을 뿐인데 상당히 신 맛이 난다 보드카의 독한 맛이 전혀 느껴지지 않을 정도 신맛을 좋아한다면 이쪽이 좋다 맛은 흡사 진 피즈와도 매우 흡사하다크렘 드 카카오   온스크렘 드 멘트   온스앞의 변형이 빌드  스터인 것과 달리 이 슈터는 두 가지 방법이 있다 셰이크 그냥 두 재료를 셰이커에 넣고 얼음도 넣고 흔든다음 슈터 잔에 따라서 낸다 플로트 크렘 드 카카오를 먼저 샷잔 밑에 붓는다 플로트로 크렘 드멘트를 위에다 띄운다다크 럼  온스베르무트  온스 라임주스  온스오렌지주스  온스세븐업 또는 스프라이트  온스화이트 초콜릿 크림 리큐르  온스페퍼민트 시냅스 리큐르  온스보드카  온스\n"
     ]
    }
   ],
   "source": [
    "# 텍스트 정제 함수 : 한글 이외의 문자는 전부 제거\n",
    "def text_cleaning(text):\n",
    "    hangul = re.compile('[^ ㄱ-ㅣ가-힣]+') # 한글의 정규표현식\n",
    "    result = hangul.sub('', text)\n",
    "    return result\n",
    "\n",
    "print(text_cleaning(df['content_text'][0]))"
   ]
  },
  {
   "cell_type": "markdown",
   "metadata": {},
   "source": [
    "### 모든 데이터에 전처리 적용하기"
   ]
  },
  {
   "cell_type": "markdown",
   "metadata": {},
   "source": [
    "apply() 함수 -> 모든 데이터에 전처리를 적용하기 위해서 사용\n",
    "\n",
    "head() 함수 -> 출력(한글을 제외한 문자들은 제거됨)"
   ]
  },
  {
   "cell_type": "code",
   "execution_count": 4,
   "metadata": {},
   "outputs": [
    {
     "data": {
      "text/html": [
       "<div>\n",
       "<style scoped>\n",
       "    .dataframe tbody tr th:only-of-type {\n",
       "        vertical-align: middle;\n",
       "    }\n",
       "\n",
       "    .dataframe tbody tr th {\n",
       "        vertical-align: top;\n",
       "    }\n",
       "\n",
       "    .dataframe thead th {\n",
       "        text-align: right;\n",
       "    }\n",
       "</style>\n",
       "<table border=\"1\" class=\"dataframe\">\n",
       "  <thead>\n",
       "    <tr style=\"text-align: right;\">\n",
       "      <th></th>\n",
       "      <th>title</th>\n",
       "      <th>category</th>\n",
       "      <th>content_text</th>\n",
       "    </tr>\n",
       "  </thead>\n",
       "  <tbody>\n",
       "    <tr>\n",
       "      <th>0</th>\n",
       "      <td>폴라 베어</td>\n",
       "      <td>보드카 베이스 칵테일나무위키 주류 프로젝트</td>\n",
       "      <td>은는 여기로 연결됩니다 이 문서가 설명하는 칵테일의 모티브가 된 동물에 대한 내...</td>\n",
       "    </tr>\n",
       "    <tr>\n",
       "      <th>1</th>\n",
       "      <td>국군기무사령부</td>\n",
       "      <td>국군기무사령부</td>\n",
       "      <td>가입 후 일이 지나야 편집 가능한 문서입니다  은는 여기로 연결됩니다 국군기무사...</td>\n",
       "    </tr>\n",
       "    <tr>\n",
       "      <th>2</th>\n",
       "      <td>윌소맥거핀</td>\n",
       "      <td>소맥거핀영상 등장인물메이플스토리밈짤방애니메이션서브 주인공애니메이션주연이 된 조연거미...</td>\n",
       "      <td>상위 문서 소맥거핀영상 등장인물 소맥거핀 유니버스 윌의 모든 것을 표현하는   ...</td>\n",
       "    </tr>\n",
       "    <tr>\n",
       "      <th>3</th>\n",
       "      <td>요코하마 디엔에이 베이스타즈</td>\n",
       "      <td>일본의 야구야구단일본프로야구년 창단</td>\n",
       "      <td>센트럴리그               센트럴리그         요미우...</td>\n",
       "    </tr>\n",
       "    <tr>\n",
       "      <th>4</th>\n",
       "      <td>나하은</td>\n",
       "      <td>년 출생대구광역시 출신 인물유튜버ㄴ대한민국의 여성 인터넷 방송인ㄴ 소속 크리에이터키...</td>\n",
       "      <td>어썸하은   닉네임어썸하은  이름나하은    출생년 월 일 세대구광역시국적 대한민국...</td>\n",
       "    </tr>\n",
       "  </tbody>\n",
       "</table>\n",
       "</div>"
      ],
      "text/plain": [
       "              title                                           category  \\\n",
       "0            폴라 베어                             보드카 베이스 칵테일나무위키 주류 프로젝트   \n",
       "1          국군기무사령부                                             국군기무사령부   \n",
       "2            윌소맥거핀   소맥거핀영상 등장인물메이플스토리밈짤방애니메이션서브 주인공애니메이션주연이 된 조연거미...   \n",
       "3  요코하마 디엔에이 베이스타즈                                 일본의 야구야구단일본프로야구년 창단   \n",
       "4              나하은   년 출생대구광역시 출신 인물유튜버ㄴ대한민국의 여성 인터넷 방송인ㄴ 소속 크리에이터키...   \n",
       "\n",
       "                                        content_text  \n",
       "0    은는 여기로 연결됩니다 이 문서가 설명하는 칵테일의 모티브가 된 동물에 대한 내...  \n",
       "1    가입 후 일이 지나야 편집 가능한 문서입니다  은는 여기로 연결됩니다 국군기무사...  \n",
       "2    상위 문서 소맥거핀영상 등장인물 소맥거핀 유니버스 윌의 모든 것을 표현하는   ...  \n",
       "3           센트럴리그               센트럴리그         요미우...  \n",
       "4  어썸하은   닉네임어썸하은  이름나하은    출생년 월 일 세대구광역시국적 대한민국...  "
      ]
     },
     "execution_count": 4,
     "metadata": {},
     "output_type": "execute_result"
    }
   ],
   "source": [
    "# 각 피처마다 데이터 전처리 적용\n",
    "df['title'] = df['title'].apply(lambda x: text_cleaning(x))\n",
    "df['category'] = df['category'].apply(lambda x: text_cleaning(x))\n",
    "df['content_text'] = df['content_text'].apply(lambda x: text_cleaning(x))\n",
    "df.head(5)"
   ]
  },
  {
   "cell_type": "markdown",
   "metadata": {},
   "source": [
    "### 말뭉치 만들기(제목, 카테고리, 본문 말뭉치)"
   ]
  },
  {
   "cell_type": "markdown",
   "metadata": {},
   "source": [
    "텍스트 피처를 tolist()로 추출, join() 함수로 말뭉치 생성"
   ]
  },
  {
   "cell_type": "code",
   "execution_count": 5,
   "metadata": {},
   "outputs": [
    {
     "name": "stdout",
     "output_type": "stream",
     "text": [
      "폴라 베어 국군기무사령부 윌소맥거핀 요코하마 디엔에이 베이스타즈 나하은 일함 알리예프   임성진 네이버 웹소설 소총사격술 타나카 치에미 년대 한국의 성비 불균형 현상 파일  기무라 타쿠야 트리엔트 미사  혐잉 협회장  타이틀 및 그래픽 일일외출록 반장 롭 홀딩 프린세스 메이커 엔딩 어몽어 파일  미미미누 기에드레 두카우스카이테  버그해결 위르겐 클롭리버풀  구로다 기요타카 아잉 협회    파일   파이널     파이널 데이비 가르시아 저글링스타크래프트 시리즈 설양 사카키 신라 재건축 오컬트 내기니 아라이 사토미 토트넘 홋스퍼  진복기 하얀고양이 프로젝트 김사현 아랑 파나요티스 레초스 오페라웹 브라우저 재범오빠 찌찌파티 급식왕  급식걸즈등장인물급식왕 학교 악우 우주선 단자비디오    아뚜임렛 미국 너구리 라스칼 브리트니 스피어스 퀴즈 마법사와 검은 고양이 위즈  파일   임가륜 동백동 이동근프로게이머 년 미국 대통령 선거선거 과정 심으뜸 김현진뮤지컬 배우 부끄럼쟁이 서큐버스의 의기양양한 얼굴이 귀엽다 처인구 리그 오브 레전드  월드 챔피언십그룹 스테이지조 정일훈 스펙크 천식영원한 일의 도시 동국통감 년 아르메니아아제르바이잔 전쟁 모바일 스트라이크 왕의 딸로 태어났다고 합니다등장인물 하인샤 대사원  몬스터 마키노원피스 \n"
     ]
    }
   ],
   "source": [
    "# 각 피처마다 말뭉치 생성\n",
    "title_corpus = \"\".join(df['title'].tolist())\n",
    "category_corpus = \"\".join(df['category'].tolist())\n",
    "content_corpus = \"\".join(df['content_text'].tolist())\n",
    "print(title_corpus)"
   ]
  },
  {
   "cell_type": "markdown",
   "metadata": {},
   "source": [
    "### konlpy를 이용해 키워드 추출하기\n",
    "#### 키워드 추출 = 명사, 혹은 형태소 단위의 문자열 추출"
   ]
  },
  {
   "cell_type": "markdown",
   "metadata": {},
   "source": [
    "konlpy의 Okt tagger를 이용하여 형태소 추출"
   ]
  },
  {
   "cell_type": "code",
   "execution_count": null,
   "metadata": {},
   "outputs": [],
   "source": [
    "from konlpy.tag import Okt\n",
    "from collections import Counter\n",
    "\n",
    "# konlpy의 형태소 분석기로 명사 단위의 키워드 추출\n",
    "nouns_tagger = Okt()\n",
    "nouns = nouns_tagger.nouns(content_corpus)\n",
    "count = Counter(nouns)\n",
    "count"
   ]
  },
  {
   "cell_type": "markdown",
   "metadata": {},
   "source": [
    "### 키워드 가다듬기: 한 글자 키워드 제거하기"
   ]
  },
  {
   "cell_type": "code",
   "execution_count": null,
   "metadata": {},
   "outputs": [],
   "source": [
    "# 한글자 키워드 제거\n",
    "remove_char_counter = Counter({x : count[x] for x in count if len(x) > 1})\n",
    "print(remove_char_counter)"
   ]
  },
  {
   "cell_type": "markdown",
   "metadata": {},
   "source": [
    "### 키워드 가다듬기: 불용어 사전 (실질적인 의미가 없는 키워드 제거)"
   ]
  },
  {
   "cell_type": "markdown",
   "metadata": {},
   "source": [
    "#### 불용어 = (관사나 접속사 등) 실질적인 의미가 없는 키워드이면서 동시에 의미적인 독립을 할 수 없는 품사"
   ]
  },
  {
   "cell_type": "code",
   "execution_count": null,
   "metadata": {},
   "outputs": [],
   "source": [
    "# 한국어 약식 불용어사전 예시 파일\n",
    "# 출처 - (https://www.ranks.nl/stopwords/korean)\n",
    "korean_stopwords_path = \"../data/korean_stopwords.txt\"\n",
    "\n",
    "# 텍스트 파일 오픈\n",
    "with open(korean_stopwords_path, encoding='utf8') as f:\n",
    "    stopwords = f.readlines()\n",
    "stopwords = [x.strip() for x in stopwords]\n",
    "print(stopwords[:10])"
   ]
  },
  {
   "cell_type": "markdown",
   "metadata": {},
   "source": [
    "새로운 불용어를 추가한 뒤, Counter 객체에서 불용어 리스트에 포함된 형태소를 제거"
   ]
  },
  {
   "cell_type": "code",
   "execution_count": null,
   "metadata": {},
   "outputs": [],
   "source": [
    "# 나무위키 페이지에 맞는 불용어 추가\n",
    "namu_wiki_stopwords = ['상위', '문서', '내용', '누설', '아래', '해당', '설명', '표기', '추가', '모든', '사용', '매우', '가장',\n",
    "                       '줄거리', '요소', '상황', '편집', '틀', '경우', '때문', '모습', '정도', '이후', '사실', '생각', '인물', \n",
    "                       '이름', '년월']\n",
    "for stopword in namu_wiki_stopwords:\n",
    "    stopwords.append(stopword)\n",
    "    \n",
    "# 키워드 데이터에서 불용어 제거\n",
    "remove_char_counter = Counter({x : remove_char_counter[x] for x in count if x not in stopwords})\n",
    "print(remove_char_counter)"
   ]
  },
  {
   "cell_type": "markdown",
   "metadata": {},
   "source": [
    "## Step 3. 시각화: 워드 클라우드 시각화하기"
   ]
  },
  {
   "cell_type": "code",
   "execution_count": null,
   "metadata": {},
   "outputs": [],
   "source": [
    "import random\n",
    "import pytagcloud\n",
    "import webbrowser\n",
    "\n",
    "# 가장 출현 빈도수가 높은 40개의 단어 선정\n",
    "ranked_tags = remove_char_counter.most_common(40)\n",
    "\n",
    "# pytagcloud로 출력할 40개의 단어 입력\n",
    "# 단어 출력의 최대 크기는 80으로 제한\n",
    "taglist = pytagcloud.make_tags(ranked_tags, maxsize=80)\n",
    "\n",
    "# pytagcloud 이미지 생성\n",
    "# 폰트는 나눔 고딕 사용\n",
    "pytagcloud.create_tag_image(taglist, 'wordcloud.jpg', size=(900, 600), fontname='NanumGothic', rectangular=False)"
   ]
  },
  {
   "cell_type": "code",
   "execution_count": null,
   "metadata": {},
   "outputs": [],
   "source": [
    "# 생성한 이미지를 주피터 노트북상에서 출력\n",
    "from IPython.display import Image\n",
    "Image(filename='wordcloud.jpg')"
   ]
  }
 ],
 "metadata": {
  "kernelspec": {
   "display_name": "Python 3",
   "language": "python",
   "name": "python3"
  },
  "language_info": {
   "codemirror_mode": {
    "name": "ipython",
    "version": 3
   },
   "file_extension": ".py",
   "mimetype": "text/x-python",
   "name": "python",
   "nbconvert_exporter": "python",
   "pygments_lexer": "ipython3",
   "version": "3.7.3"
  }
 },
 "nbformat": 4,
 "nbformat_minor": 2
}
